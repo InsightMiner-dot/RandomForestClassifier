{
 "cells": [
  {
   "cell_type": "code",
   "execution_count": 130,
   "id": "3512268b",
   "metadata": {},
   "outputs": [],
   "source": [
    "# Load the important library\n",
    "import numpy as np\n",
    "import pandas as pd\n",
    "import seaborn as sns\n",
    "import matplotlib.pyplot as plt\n",
    "from sklearn import metrics\n",
    "import warnings\n",
    "warnings.filterwarnings('ignore')"
   ]
  },
  {
   "cell_type": "code",
   "execution_count": 131,
   "id": "11084c40",
   "metadata": {},
   "outputs": [],
   "source": [
    "from sklearn.ensemble import RandomForestClassifier"
   ]
  },
  {
   "cell_type": "code",
   "execution_count": 132,
   "id": "6c6ceb19",
   "metadata": {},
   "outputs": [],
   "source": [
    "df = pd.read_csv('Social_Network_Ads.csv')"
   ]
  },
  {
   "cell_type": "code",
   "execution_count": 133,
   "id": "e07e5722",
   "metadata": {},
   "outputs": [
    {
     "data": {
      "text/html": [
       "<div>\n",
       "<style scoped>\n",
       "    .dataframe tbody tr th:only-of-type {\n",
       "        vertical-align: middle;\n",
       "    }\n",
       "\n",
       "    .dataframe tbody tr th {\n",
       "        vertical-align: top;\n",
       "    }\n",
       "\n",
       "    .dataframe thead th {\n",
       "        text-align: right;\n",
       "    }\n",
       "</style>\n",
       "<table border=\"1\" class=\"dataframe\">\n",
       "  <thead>\n",
       "    <tr style=\"text-align: right;\">\n",
       "      <th></th>\n",
       "      <th>Age</th>\n",
       "      <th>EstimatedSalary</th>\n",
       "      <th>Purchased</th>\n",
       "    </tr>\n",
       "  </thead>\n",
       "  <tbody>\n",
       "    <tr>\n",
       "      <th>0</th>\n",
       "      <td>19</td>\n",
       "      <td>19000</td>\n",
       "      <td>0</td>\n",
       "    </tr>\n",
       "    <tr>\n",
       "      <th>1</th>\n",
       "      <td>35</td>\n",
       "      <td>20000</td>\n",
       "      <td>0</td>\n",
       "    </tr>\n",
       "    <tr>\n",
       "      <th>2</th>\n",
       "      <td>26</td>\n",
       "      <td>43000</td>\n",
       "      <td>0</td>\n",
       "    </tr>\n",
       "    <tr>\n",
       "      <th>3</th>\n",
       "      <td>27</td>\n",
       "      <td>57000</td>\n",
       "      <td>0</td>\n",
       "    </tr>\n",
       "    <tr>\n",
       "      <th>4</th>\n",
       "      <td>19</td>\n",
       "      <td>76000</td>\n",
       "      <td>0</td>\n",
       "    </tr>\n",
       "  </tbody>\n",
       "</table>\n",
       "</div>"
      ],
      "text/plain": [
       "   Age  EstimatedSalary  Purchased\n",
       "0   19            19000          0\n",
       "1   35            20000          0\n",
       "2   26            43000          0\n",
       "3   27            57000          0\n",
       "4   19            76000          0"
      ]
     },
     "execution_count": 133,
     "metadata": {},
     "output_type": "execute_result"
    }
   ],
   "source": [
    "df.head()"
   ]
  },
  {
   "cell_type": "code",
   "execution_count": 134,
   "id": "5d89fc88",
   "metadata": {},
   "outputs": [
    {
     "name": "stdout",
     "output_type": "stream",
     "text": [
      "<class 'pandas.core.frame.DataFrame'>\n",
      "RangeIndex: 400 entries, 0 to 399\n",
      "Data columns (total 3 columns):\n",
      " #   Column           Non-Null Count  Dtype\n",
      "---  ------           --------------  -----\n",
      " 0   Age              400 non-null    int64\n",
      " 1   EstimatedSalary  400 non-null    int64\n",
      " 2   Purchased        400 non-null    int64\n",
      "dtypes: int64(3)\n",
      "memory usage: 9.5 KB\n"
     ]
    }
   ],
   "source": [
    "df.info()"
   ]
  },
  {
   "cell_type": "code",
   "execution_count": 135,
   "id": "61daae56",
   "metadata": {},
   "outputs": [],
   "source": [
    "X = df.drop('Purchased',axis = 1)\n",
    "\n",
    "y = df.pop('Purchased')"
   ]
  },
  {
   "cell_type": "code",
   "execution_count": 136,
   "id": "ad09d8b5",
   "metadata": {},
   "outputs": [],
   "source": [
    "from sklearn.model_selection import train_test_split\n",
    "X_train,X_test,y_train,y_test = train_test_split(X,y,test_size = .25, random_state = 0)"
   ]
  },
  {
   "cell_type": "code",
   "execution_count": 137,
   "id": "a9ef99a6",
   "metadata": {},
   "outputs": [
    {
     "name": "stdout",
     "output_type": "stream",
     "text": [
      "Shape of the X_train data set (300, 2) Shape of the X_test data set (100, 2)\n"
     ]
    }
   ],
   "source": [
    "print('Shape of the X_train data set {}'.format(X_train.shape), \n",
    "     'Shape of the X_test data set {}'.format(X_test.shape))"
   ]
  },
  {
   "cell_type": "code",
   "execution_count": 138,
   "id": "0582669a",
   "metadata": {},
   "outputs": [
    {
     "name": "stdout",
     "output_type": "stream",
     "text": [
      "Shape of the X_train data set (300, 2) Shape of the X_test data set (100, 2)\n"
     ]
    }
   ],
   "source": [
    "print('Shape of the X_train data set {}'.format(X_train.shape), \n",
    "     'Shape of the X_test data set {}'.format(X_test.shape))"
   ]
  },
  {
   "cell_type": "code",
   "execution_count": 139,
   "id": "e3164963",
   "metadata": {},
   "outputs": [],
   "source": [
    "rfcl = RandomForestClassifier(n_estimators=501,  \n",
    "                              oob_score=True, \n",
    "                              max_depth = 20, \n",
    "                              max_features = 2, \n",
    "                              min_samples_leaf = 15,\n",
    "                             min_samples_split = 30)"
   ]
  },
  {
   "cell_type": "markdown",
   "id": "3be15791",
   "metadata": {},
   "source": [
    "n_estimator for choose number of trees in the forest,\n",
    "\n",
    "oob_score- out of bag score\n",
    "\n",
    "max_depth - The maximum depth of tree."
   ]
  },
  {
   "cell_type": "code",
   "execution_count": 140,
   "id": "8f55aa99",
   "metadata": {},
   "outputs": [],
   "source": [
    "rfcl = rfcl.fit(X_train,y_train)"
   ]
  },
  {
   "cell_type": "code",
   "execution_count": 141,
   "id": "f0b694c7",
   "metadata": {},
   "outputs": [
    {
     "data": {
      "text/plain": [
       "True"
      ]
     },
     "execution_count": 141,
     "metadata": {},
     "output_type": "execute_result"
    }
   ],
   "source": [
    "rfcl.oob_score"
   ]
  },
  {
   "cell_type": "code",
   "execution_count": 142,
   "id": "e5f9bc4a",
   "metadata": {
    "scrolled": true
   },
   "outputs": [
    {
     "data": {
      "text/plain": [
       "0.9033333333333333"
      ]
     },
     "execution_count": 142,
     "metadata": {},
     "output_type": "execute_result"
    }
   ],
   "source": [
    "rfcl.oob_score_"
   ]
  },
  {
   "cell_type": "markdown",
   "id": "efd76f2b",
   "metadata": {},
   "source": [
    " While using the cross-validation technique, every validation set has already been seen or used in training by a few decision trees and hence there is a leakage of data, therefore more variance.\n",
    "But, OOB_Score prevents leakage and gives a better model with low variance, so we use OOB_score for validating the model."
   ]
  },
  {
   "cell_type": "markdown",
   "id": "96e5b935",
   "metadata": {},
   "source": [
    "error = 100-88 = 12% error\n"
   ]
  },
  {
   "cell_type": "code",
   "execution_count": 143,
   "id": "4c4e310b",
   "metadata": {},
   "outputs": [],
   "source": [
    "from sklearn.model_selection import GridSearchCV"
   ]
  },
  {
   "cell_type": "code",
   "execution_count": 144,
   "id": "9e59d4ab",
   "metadata": {},
   "outputs": [],
   "source": [
    "param_grid = {'max_depth': [10,20],\n",
    "              'max_features' : [1,2],\n",
    "              'min_samples_leaf' : [10,15],\n",
    "              'min_samples_split' : [20,30],\n",
    "             'n_estimators' : [401,501]}"
   ]
  },
  {
   "cell_type": "code",
   "execution_count": 145,
   "id": "a00e334d",
   "metadata": {},
   "outputs": [],
   "source": [
    "rfcl1 = RandomForestClassifier()"
   ]
  },
  {
   "cell_type": "code",
   "execution_count": 146,
   "id": "f4ff9c2a",
   "metadata": {},
   "outputs": [],
   "source": [
    "grid_search = GridSearchCV(estimator = rfcl1, param_grid = param_grid, cv =3)"
   ]
  },
  {
   "cell_type": "code",
   "execution_count": 147,
   "id": "622d3257",
   "metadata": {},
   "outputs": [
    {
     "data": {
      "text/plain": [
       "GridSearchCV(cv=3, estimator=RandomForestClassifier(),\n",
       "             param_grid={'max_depth': [10, 20], 'max_features': [1, 2],\n",
       "                         'min_samples_leaf': [10, 15],\n",
       "                         'min_samples_split': [20, 30],\n",
       "                         'n_estimators': [401, 501]})"
      ]
     },
     "execution_count": 147,
     "metadata": {},
     "output_type": "execute_result"
    }
   ],
   "source": [
    "grid_search"
   ]
  },
  {
   "cell_type": "code",
   "execution_count": 148,
   "id": "2c606acd",
   "metadata": {},
   "outputs": [
    {
     "data": {
      "text/plain": [
       "GridSearchCV(cv=3, estimator=RandomForestClassifier(),\n",
       "             param_grid={'max_depth': [10, 20], 'max_features': [1, 2],\n",
       "                         'min_samples_leaf': [10, 15],\n",
       "                         'min_samples_split': [20, 30],\n",
       "                         'n_estimators': [401, 501]})"
      ]
     },
     "execution_count": 148,
     "metadata": {},
     "output_type": "execute_result"
    }
   ],
   "source": [
    "grid_search.fit(X_train,y_train)"
   ]
  },
  {
   "cell_type": "code",
   "execution_count": 149,
   "id": "74b29980",
   "metadata": {},
   "outputs": [
    {
     "data": {
      "text/plain": [
       "{'max_depth': 10,\n",
       " 'max_features': 1,\n",
       " 'min_samples_leaf': 10,\n",
       " 'min_samples_split': 20,\n",
       " 'n_estimators': 401}"
      ]
     },
     "execution_count": 149,
     "metadata": {},
     "output_type": "execute_result"
    }
   ],
   "source": [
    "grid_search.best_params_"
   ]
  },
  {
   "cell_type": "code",
   "execution_count": 150,
   "id": "e608de25",
   "metadata": {},
   "outputs": [
    {
     "data": {
      "text/plain": [
       "RandomForestClassifier(max_depth=10, max_features=1, min_samples_leaf=10,\n",
       "                       min_samples_split=20, n_estimators=401)"
      ]
     },
     "execution_count": 150,
     "metadata": {},
     "output_type": "execute_result"
    }
   ],
   "source": [
    "grid_search.best_estimator_"
   ]
  },
  {
   "cell_type": "code",
   "execution_count": 151,
   "id": "978675d5",
   "metadata": {},
   "outputs": [],
   "source": [
    "best_grid = grid_search.best_estimator_"
   ]
  },
  {
   "cell_type": "code",
   "execution_count": 152,
   "id": "675091f5",
   "metadata": {},
   "outputs": [],
   "source": [
    "ytrain_predict = best_grid.predict(X_train)\n",
    "ytest_predict = best_grid.predict(X_test)"
   ]
  },
  {
   "cell_type": "code",
   "execution_count": 153,
   "id": "b054b41c",
   "metadata": {},
   "outputs": [],
   "source": [
    "# for probability\n",
    "ytrain_predict_proba = best_grid.predict_proba(X_train)\n",
    "ytest_predict_proba = best_grid.predict_proba(X_test)"
   ]
  },
  {
   "cell_type": "code",
   "execution_count": 154,
   "id": "5ce0052f",
   "metadata": {},
   "outputs": [],
   "source": [
    "# Evaluation\n",
    "from sklearn.metrics import confusion_matrix, classification_report"
   ]
  },
  {
   "cell_type": "code",
   "execution_count": 155,
   "id": "99abb4da",
   "metadata": {},
   "outputs": [
    {
     "data": {
      "text/plain": [
       "array([[170,  19],\n",
       "       [  6, 105]], dtype=int64)"
      ]
     },
     "execution_count": 155,
     "metadata": {},
     "output_type": "execute_result"
    }
   ],
   "source": [
    "confusion_matrix(y_train, ytrain_predict)"
   ]
  },
  {
   "cell_type": "code",
   "execution_count": 156,
   "id": "939fedf1",
   "metadata": {},
   "outputs": [
    {
     "data": {
      "image/png": "[encoded data removed]",
      "text/plain": [
       "<Figure size 432x288 with 2 Axes>"
      ]
     },
     "metadata": {
      "needs_background": "light"
     },
     "output_type": "display_data"
    }
   ],
   "source": [
    "#print(metrics.confusion_matrix(y_test, y_predict))\n",
    "sns.heatmap((metrics.confusion_matrix(y_train,ytrain_predict)),annot=True,fmt='.5g'\n",
    "            ,cmap='plasma');\n",
    "plt.xlabel('Predicted');\n",
    "plt.ylabel('Actuals',rotation=0);"
   ]
  },
  {
   "cell_type": "code",
   "execution_count": 157,
   "id": "001fb63e",
   "metadata": {},
   "outputs": [
    {
     "data": {
      "image/png": "[encoded data removed]",
      "text/plain": [
       "<Figure size 432x288 with 2 Axes>"
      ]
     },
     "metadata": {
      "needs_background": "light"
     },
     "output_type": "display_data"
    }
   ],
   "source": [
    "#print(metrics.confusion_matrix(y_test, y_predict))\n",
    "sns.heatmap((metrics.confusion_matrix(y_test,ytest_predict)),annot=True,fmt='.5g'\n",
    "            ,cmap='plasma');\n",
    "plt.xlabel('Predicted');\n",
    "plt.ylabel('Actuals',rotation=0);"
   ]
  },
  {
   "cell_type": "code",
   "execution_count": 158,
   "id": "65abd2a5",
   "metadata": {},
   "outputs": [
    {
     "name": "stdout",
     "output_type": "stream",
     "text": [
      "              precision    recall  f1-score   support\n",
      "\n",
      "           0       0.97      0.90      0.93       189\n",
      "           1       0.85      0.95      0.89       111\n",
      "\n",
      "    accuracy                           0.92       300\n",
      "   macro avg       0.91      0.92      0.91       300\n",
      "weighted avg       0.92      0.92      0.92       300\n",
      "\n"
     ]
    }
   ],
   "source": [
    "print(classification_report(y_train,ytrain_predict))"
   ]
  },
  {
   "cell_type": "code",
   "execution_count": 159,
   "id": "ac6cbb41",
   "metadata": {},
   "outputs": [
    {
     "name": "stdout",
     "output_type": "stream",
     "text": [
      "              precision    recall  f1-score   support\n",
      "\n",
      "           0       0.97      0.94      0.96        68\n",
      "           1       0.88      0.94      0.91        32\n",
      "\n",
      "    accuracy                           0.94       100\n",
      "   macro avg       0.93      0.94      0.93       100\n",
      "weighted avg       0.94      0.94      0.94       100\n",
      "\n"
     ]
    }
   ],
   "source": [
    "print(classification_report(y_test,ytest_predict))"
   ]
  },
  {
   "cell_type": "code",
   "execution_count": 160,
   "id": "83ef746f",
   "metadata": {},
   "outputs": [],
   "source": [
    "probs = best_grid.predict_proba(X_train)"
   ]
  },
  {
   "cell_type": "code",
   "execution_count": 161,
   "id": "fc73aedd",
   "metadata": {},
   "outputs": [],
   "source": [
    "probs = probs[:,1]"
   ]
  },
  {
   "cell_type": "code",
   "execution_count": 162,
   "id": "037c7607",
   "metadata": {},
   "outputs": [],
   "source": [
    "from sklearn.metrics import roc_auc_score"
   ]
  },
  {
   "cell_type": "code",
   "execution_count": 163,
   "id": "118ed960",
   "metadata": {},
   "outputs": [],
   "source": [
    "auc = roc_auc_score(y_train, probs)"
   ]
  },
  {
   "cell_type": "code",
   "execution_count": 164,
   "id": "2692992c",
   "metadata": {},
   "outputs": [
    {
     "data": {
      "text/plain": [
       "0.9715668049001381"
      ]
     },
     "execution_count": 164,
     "metadata": {},
     "output_type": "execute_result"
    }
   ],
   "source": [
    "auc"
   ]
  },
  {
   "cell_type": "code",
   "execution_count": 165,
   "id": "095b1062",
   "metadata": {},
   "outputs": [
    {
     "name": "stdout",
     "output_type": "stream",
     "text": [
      "AUC: 0.972\n"
     ]
    },
    {
     "data": {
      "image/png": "[encoded data removed]",
      "text/plain": [
       "<Figure size 432x288 with 1 Axes>"
      ]
     },
     "metadata": {
      "needs_background": "light"
     },
     "output_type": "display_data"
    }
   ],
   "source": [
    "# Predict Probabilities\n",
    "probs = best_grid.predict_proba(X_train)\n",
    "\n",
    "# Keep probabilities for the positive outcome only\n",
    "probs = probs[:,1]\n",
    "\n",
    "# Calculate AUC\n",
    "from sklearn.metrics import roc_auc_score\n",
    "auc= roc_auc_score(y_train, probs)\n",
    "print('AUC: %.3f'%auc)\n",
    "from sklearn.metrics import roc_curve\n",
    "fpr, tpr,thresholds = roc_curve(y_train, probs)\n",
    "plt.plot([0,1], [0,1], linestyle = '--')\n",
    "plt.plot(fpr,tpr,marker = '.')\n",
    "plt.show()"
   ]
  },
  {
   "cell_type": "code",
   "execution_count": 166,
   "id": "2f4ca093",
   "metadata": {},
   "outputs": [
    {
     "name": "stdout",
     "output_type": "stream",
     "text": [
      "AUC: 0.985\n"
     ]
    },
    {
     "data": {
      "image/png": "[encoded data removed]",
      "text/plain": [
       "<Figure size 432x288 with 1 Axes>"
      ]
     },
     "metadata": {
      "needs_background": "light"
     },
     "output_type": "display_data"
    }
   ],
   "source": [
    "# Predict Probabilities\n",
    "probs = best_grid.predict_proba(X_test)\n",
    "\n",
    "# Keep probabilities for the positive outcome only\n",
    "probs = probs[:,1]\n",
    "\n",
    "# Calculate AUC\n",
    "from sklearn.metrics import roc_auc_score\n",
    "auc= roc_auc_score(y_test, probs)\n",
    "print('AUC: %.3f'%auc)\n",
    "\n",
    "#Calculate roc curve\n",
    "from sklearn.metrics import roc_curve\n",
    "fpr, tpr, thresholds = roc_curve (y_test, probs)\n",
    "plt.plot([0,1],[0,1], linestyle ='--')\n",
    "\n",
    "# Plot the roc curve for the model\n",
    "plt.plot(fpr,tpr, marker = '.')\n",
    "\n",
    "#Show the plot\n",
    "plt.show()"
   ]
  },
  {
   "cell_type": "code",
   "execution_count": 178,
   "id": "c6acc3e9",
   "metadata": {},
   "outputs": [
    {
     "name": "stdout",
     "output_type": "stream",
     "text": [
      "[1]\n"
     ]
    }
   ],
   "source": [
    "print(rfcl.predict([[58,87000]]))"
   ]
  },
  {
   "cell_type": "code",
   "execution_count": null,
   "id": "230a3d02",
   "metadata": {},
   "outputs": [],
   "source": []
  }
 ],
 "metadata": {
  "kernelspec": {
   "display_name": "Python 3",
   "language": "python",
   "name": "python3"
  },
  "language_info": {
   "codemirror_mode": {
    "name": "ipython",
    "version": 3
   },
   "file_extension": ".py",
   "mimetype": "text/x-python",
   "name": "python",
   "nbconvert_exporter": "python",
   "pygments_lexer": "ipython3",
   "version": "3.8.8"
  }
 },
 "nbformat": 4,
 "nbformat_minor": 5
}
